{
 "cells": [
  {
   "cell_type": "code",
   "execution_count": 1,
   "id": "326e6748",
   "metadata": {},
   "outputs": [],
   "source": [
    "import pandas as pd\n",
    "import numpy as np\n",
    "import matplotlib.pyplot as plt\n",
    "import seaborn as sns\n",
    "pd.set_option('display.max_rows',100)\n",
    "pd.set_option('display.max_columns',500)\n",
    "pd.set_option('display.width',1000)"
   ]
  },
  {
   "cell_type": "code",
   "execution_count": 2,
   "id": "641d8060",
   "metadata": {},
   "outputs": [
    {
     "data": {
      "text/html": [
       "<div>\n",
       "<style scoped>\n",
       "    .dataframe tbody tr th:only-of-type {\n",
       "        vertical-align: middle;\n",
       "    }\n",
       "\n",
       "    .dataframe tbody tr th {\n",
       "        vertical-align: top;\n",
       "    }\n",
       "\n",
       "    .dataframe thead th {\n",
       "        text-align: right;\n",
       "    }\n",
       "</style>\n",
       "<table border=\"1\" class=\"dataframe\">\n",
       "  <thead>\n",
       "    <tr style=\"text-align: right;\">\n",
       "      <th></th>\n",
       "      <th>MSSubClass</th>\n",
       "      <th>MSZoning</th>\n",
       "      <th>LotArea</th>\n",
       "      <th>LotShape</th>\n",
       "      <th>LotConfig</th>\n",
       "      <th>LandSlope</th>\n",
       "      <th>OverallQual</th>\n",
       "      <th>YearBuilt</th>\n",
       "      <th>MasVnrArea</th>\n",
       "      <th>ExterQual</th>\n",
       "      <th>BsmtExposure</th>\n",
       "    </tr>\n",
       "  </thead>\n",
       "  <tbody>\n",
       "    <tr>\n",
       "      <th>0</th>\n",
       "      <td>60</td>\n",
       "      <td>RL</td>\n",
       "      <td>8450</td>\n",
       "      <td>Reg</td>\n",
       "      <td>Inside</td>\n",
       "      <td>Gtl</td>\n",
       "      <td>7</td>\n",
       "      <td>2003</td>\n",
       "      <td>196</td>\n",
       "      <td>Gd</td>\n",
       "      <td>No</td>\n",
       "    </tr>\n",
       "    <tr>\n",
       "      <th>1</th>\n",
       "      <td>20</td>\n",
       "      <td>RL</td>\n",
       "      <td>9600</td>\n",
       "      <td>Reg</td>\n",
       "      <td>FR2</td>\n",
       "      <td>Gtl</td>\n",
       "      <td>6</td>\n",
       "      <td>1976</td>\n",
       "      <td>0</td>\n",
       "      <td>TA</td>\n",
       "      <td>Gd</td>\n",
       "    </tr>\n",
       "    <tr>\n",
       "      <th>2</th>\n",
       "      <td>60</td>\n",
       "      <td>RL</td>\n",
       "      <td>11250</td>\n",
       "      <td>IR1</td>\n",
       "      <td>Inside</td>\n",
       "      <td>Gtl</td>\n",
       "      <td>7</td>\n",
       "      <td>2001</td>\n",
       "      <td>162</td>\n",
       "      <td>Gd</td>\n",
       "      <td>Mn</td>\n",
       "    </tr>\n",
       "    <tr>\n",
       "      <th>3</th>\n",
       "      <td>70</td>\n",
       "      <td>RL</td>\n",
       "      <td>9550</td>\n",
       "      <td>IR1</td>\n",
       "      <td>Corner</td>\n",
       "      <td>Gtl</td>\n",
       "      <td>7</td>\n",
       "      <td>1915</td>\n",
       "      <td>0</td>\n",
       "      <td>TA</td>\n",
       "      <td>No</td>\n",
       "    </tr>\n",
       "    <tr>\n",
       "      <th>4</th>\n",
       "      <td>60</td>\n",
       "      <td>RL</td>\n",
       "      <td>14260</td>\n",
       "      <td>IR1</td>\n",
       "      <td>FR2</td>\n",
       "      <td>Gtl</td>\n",
       "      <td>8</td>\n",
       "      <td>2000</td>\n",
       "      <td>350</td>\n",
       "      <td>Gd</td>\n",
       "      <td>Av</td>\n",
       "    </tr>\n",
       "  </tbody>\n",
       "</table>\n",
       "</div>"
      ],
      "text/plain": [
       "   MSSubClass MSZoning  LotArea LotShape LotConfig LandSlope  OverallQual  YearBuilt  MasVnrArea ExterQual BsmtExposure\n",
       "0          60       RL     8450      Reg    Inside       Gtl            7       2003         196        Gd           No\n",
       "1          20       RL     9600      Reg       FR2       Gtl            6       1976           0        TA           Gd\n",
       "2          60       RL    11250      IR1    Inside       Gtl            7       2001         162        Gd           Mn\n",
       "3          70       RL     9550      IR1    Corner       Gtl            7       1915           0        TA           No\n",
       "4          60       RL    14260      IR1       FR2       Gtl            8       2000         350        Gd           Av"
      ]
     },
     "execution_count": 2,
     "metadata": {},
     "output_type": "execute_result"
    }
   ],
   "source": [
    "df=pd.read_csv('practice.csv')\n",
    "df.head()"
   ]
  },
  {
   "cell_type": "markdown",
   "id": "c880516f",
   "metadata": {},
   "source": [
    "1.\tDisplay all columns"
   ]
  },
  {
   "cell_type": "code",
   "execution_count": 5,
   "id": "3a7552b9",
   "metadata": {},
   "outputs": [
    {
     "data": {
      "text/plain": [
       "Index(['MSSubClass', 'MSZoning', 'LotArea', 'LotShape', 'LotConfig', 'LandSlope', 'OverallQual', 'YearBuilt', 'MasVnrArea', 'ExterQual', 'BsmtExposure'], dtype='object')"
      ]
     },
     "execution_count": 5,
     "metadata": {},
     "output_type": "execute_result"
    }
   ],
   "source": [
    "df.columns"
   ]
  },
  {
   "cell_type": "markdown",
   "id": "dc647a31",
   "metadata": {},
   "source": [
    "2.\tcreate numerical and categorical columns list"
   ]
  },
  {
   "cell_type": "code",
   "execution_count": 7,
   "id": "fac7394c",
   "metadata": {},
   "outputs": [
    {
     "name": "stderr",
     "output_type": "stream",
     "text": [
      "<ipython-input-7-23c879470399>:2: DeprecationWarning: `np.object` is a deprecated alias for the builtin `object`. To silence this warning, use `object` by itself. Doing this will not modify any behavior and is safe. \n",
      "Deprecated in NumPy 1.20; for more details and guidance: https://numpy.org/devdocs/release/1.20.0-notes.html#deprecations\n",
      "  categorical_cols=df.select_dtypes(np.object).columns\n"
     ]
    },
    {
     "data": {
      "text/plain": [
       "Index(['MSSubClass', 'LotArea', 'OverallQual', 'YearBuilt', 'MasVnrArea'], dtype='object')"
      ]
     },
     "execution_count": 7,
     "metadata": {},
     "output_type": "execute_result"
    }
   ],
   "source": [
    "numerical_cols=df.select_dtypes(np.number).columns\n",
    "categorical_cols=df.select_dtypes(np.object).columns\n",
    "numerical_cols"
   ]
  },
  {
   "cell_type": "code",
   "execution_count": 8,
   "id": "18fad393",
   "metadata": {},
   "outputs": [
    {
     "data": {
      "text/plain": [
       "Index(['MSZoning', 'LotShape', 'LotConfig', 'LandSlope', 'ExterQual', 'BsmtExposure'], dtype='object')"
      ]
     },
     "execution_count": 8,
     "metadata": {},
     "output_type": "execute_result"
    }
   ],
   "source": [
    "categorical_cols"
   ]
  },
  {
   "cell_type": "markdown",
   "id": "81f797d0",
   "metadata": {},
   "source": [
    "3.\tdisplay size of the data-frame"
   ]
  },
  {
   "cell_type": "code",
   "execution_count": 11,
   "id": "7433a7bf",
   "metadata": {},
   "outputs": [
    {
     "name": "stdout",
     "output_type": "stream",
     "text": [
      "30 11\n"
     ]
    }
   ],
   "source": [
    "print(df.shape[0],df.shape[1])"
   ]
  },
  {
   "cell_type": "markdown",
   "id": "7942d27d",
   "metadata": {},
   "source": [
    "4.\trename column MSSubClass -> SubClass, MSZoning -> Zones"
   ]
  },
  {
   "cell_type": "code",
   "execution_count": 15,
   "id": "091ee498",
   "metadata": {},
   "outputs": [
    {
     "data": {
      "text/plain": [
       "Index(['SubClass', 'Zones', 'LotArea', 'LotShape', 'LotConfig', 'LandSlope', 'OverallQual', 'YearBuilt', 'MasVnrArea', 'ExterQual', 'BsmtExposure'], dtype='object')"
      ]
     },
     "execution_count": 15,
     "metadata": {},
     "output_type": "execute_result"
    }
   ],
   "source": [
    "df.rename(columns={'MSSubClass':'SubClass','MSZoning':'Zones'},inplace=True)\n",
    "df.columns"
   ]
  },
  {
   "cell_type": "markdown",
   "id": "7db1b27f",
   "metadata": {},
   "source": [
    "5.\tdisplay distinct values for Zoning, LotShape, LotConfig"
   ]
  },
  {
   "cell_type": "code",
   "execution_count": 21,
   "id": "42ab4d03",
   "metadata": {},
   "outputs": [
    {
     "name": "stdout",
     "output_type": "stream",
     "text": [
      "['RL' 'RM']\n",
      "['Reg' 'IR1' 'IR2']\n",
      "['Inside' 'FR2' 'Corner' 'CulDSac']\n"
     ]
    }
   ],
   "source": [
    "for col in ['Zones','LotShape','LotConfig']:\n",
    "    print(df[col].unique())"
   ]
  },
  {
   "cell_type": "markdown",
   "id": "63ce21b0",
   "metadata": {},
   "source": [
    "6.\tdisplay count of distinct values for Zoning, LotShape, LotConfig"
   ]
  },
  {
   "cell_type": "code",
   "execution_count": 23,
   "id": "95d831d1",
   "metadata": {},
   "outputs": [
    {
     "name": "stdout",
     "output_type": "stream",
     "text": [
      "2\n",
      "3\n",
      "4\n"
     ]
    }
   ],
   "source": [
    "for col in ['Zones','LotShape','LotConfig']:\n",
    "    print(df[col].nunique())"
   ]
  },
  {
   "cell_type": "markdown",
   "id": "26a5c279",
   "metadata": {},
   "source": [
    "7.\tmax, min of column YearBuilt"
   ]
  },
  {
   "cell_type": "code",
   "execution_count": 24,
   "id": "d69a20cb",
   "metadata": {},
   "outputs": [
    {
     "data": {
      "text/plain": [
       "2007"
      ]
     },
     "execution_count": 24,
     "metadata": {},
     "output_type": "execute_result"
    }
   ],
   "source": [
    "df['YearBuilt'].max()"
   ]
  },
  {
   "cell_type": "code",
   "execution_count": 25,
   "id": "ce2dab6d",
   "metadata": {},
   "outputs": [
    {
     "data": {
      "text/plain": [
       "1915"
      ]
     },
     "execution_count": 25,
     "metadata": {},
     "output_type": "execute_result"
    }
   ],
   "source": [
    "df['YearBuilt'].min()"
   ]
  },
  {
   "cell_type": "markdown",
   "id": "2a36c795",
   "metadata": {},
   "source": [
    "8.\tcreate a new column “year_diff’. This will be holding difference of current year and YearBuilt"
   ]
  },
  {
   "cell_type": "code",
   "execution_count": 29,
   "id": "9f858cde",
   "metadata": {},
   "outputs": [
    {
     "data": {
      "text/html": [
       "<div>\n",
       "<style scoped>\n",
       "    .dataframe tbody tr th:only-of-type {\n",
       "        vertical-align: middle;\n",
       "    }\n",
       "\n",
       "    .dataframe tbody tr th {\n",
       "        vertical-align: top;\n",
       "    }\n",
       "\n",
       "    .dataframe thead th {\n",
       "        text-align: right;\n",
       "    }\n",
       "</style>\n",
       "<table border=\"1\" class=\"dataframe\">\n",
       "  <thead>\n",
       "    <tr style=\"text-align: right;\">\n",
       "      <th></th>\n",
       "      <th>SubClass</th>\n",
       "      <th>Zones</th>\n",
       "      <th>LotArea</th>\n",
       "      <th>LotShape</th>\n",
       "      <th>LotConfig</th>\n",
       "      <th>LandSlope</th>\n",
       "      <th>OverallQual</th>\n",
       "      <th>YearBuilt</th>\n",
       "      <th>MasVnrArea</th>\n",
       "      <th>ExterQual</th>\n",
       "      <th>BsmtExposure</th>\n",
       "      <th>year_diff.</th>\n",
       "    </tr>\n",
       "  </thead>\n",
       "  <tbody>\n",
       "    <tr>\n",
       "      <th>0</th>\n",
       "      <td>60</td>\n",
       "      <td>RL</td>\n",
       "      <td>8450</td>\n",
       "      <td>Reg</td>\n",
       "      <td>Inside</td>\n",
       "      <td>Gtl</td>\n",
       "      <td>7</td>\n",
       "      <td>2003</td>\n",
       "      <td>196</td>\n",
       "      <td>Gd</td>\n",
       "      <td>No</td>\n",
       "      <td>18</td>\n",
       "    </tr>\n",
       "    <tr>\n",
       "      <th>1</th>\n",
       "      <td>20</td>\n",
       "      <td>RL</td>\n",
       "      <td>9600</td>\n",
       "      <td>Reg</td>\n",
       "      <td>FR2</td>\n",
       "      <td>Gtl</td>\n",
       "      <td>6</td>\n",
       "      <td>1976</td>\n",
       "      <td>0</td>\n",
       "      <td>TA</td>\n",
       "      <td>Gd</td>\n",
       "      <td>45</td>\n",
       "    </tr>\n",
       "    <tr>\n",
       "      <th>2</th>\n",
       "      <td>60</td>\n",
       "      <td>RL</td>\n",
       "      <td>11250</td>\n",
       "      <td>IR1</td>\n",
       "      <td>Inside</td>\n",
       "      <td>Gtl</td>\n",
       "      <td>7</td>\n",
       "      <td>2001</td>\n",
       "      <td>162</td>\n",
       "      <td>Gd</td>\n",
       "      <td>Mn</td>\n",
       "      <td>20</td>\n",
       "    </tr>\n",
       "    <tr>\n",
       "      <th>3</th>\n",
       "      <td>70</td>\n",
       "      <td>RL</td>\n",
       "      <td>9550</td>\n",
       "      <td>IR1</td>\n",
       "      <td>Corner</td>\n",
       "      <td>Gtl</td>\n",
       "      <td>7</td>\n",
       "      <td>1915</td>\n",
       "      <td>0</td>\n",
       "      <td>TA</td>\n",
       "      <td>No</td>\n",
       "      <td>106</td>\n",
       "    </tr>\n",
       "    <tr>\n",
       "      <th>4</th>\n",
       "      <td>60</td>\n",
       "      <td>RL</td>\n",
       "      <td>14260</td>\n",
       "      <td>IR1</td>\n",
       "      <td>FR2</td>\n",
       "      <td>Gtl</td>\n",
       "      <td>8</td>\n",
       "      <td>2000</td>\n",
       "      <td>350</td>\n",
       "      <td>Gd</td>\n",
       "      <td>Av</td>\n",
       "      <td>21</td>\n",
       "    </tr>\n",
       "  </tbody>\n",
       "</table>\n",
       "</div>"
      ],
      "text/plain": [
       "   SubClass Zones  LotArea LotShape LotConfig LandSlope  OverallQual  YearBuilt  MasVnrArea ExterQual BsmtExposure  year_diff.\n",
       "0        60    RL     8450      Reg    Inside       Gtl            7       2003         196        Gd           No          18\n",
       "1        20    RL     9600      Reg       FR2       Gtl            6       1976           0        TA           Gd          45\n",
       "2        60    RL    11250      IR1    Inside       Gtl            7       2001         162        Gd           Mn          20\n",
       "3        70    RL     9550      IR1    Corner       Gtl            7       1915           0        TA           No         106\n",
       "4        60    RL    14260      IR1       FR2       Gtl            8       2000         350        Gd           Av          21"
      ]
     },
     "execution_count": 29,
     "metadata": {},
     "output_type": "execute_result"
    }
   ],
   "source": [
    "from datetime import datetime\n",
    "df['year_diff.']=datetime.today().year-df['YearBuilt']\n",
    "df.head()"
   ]
  },
  {
   "cell_type": "markdown",
   "id": "a69576bf",
   "metadata": {},
   "source": [
    "9.\tdisplay distinct MSZoning for each OverallQual"
   ]
  },
  {
   "cell_type": "code",
   "execution_count": 32,
   "id": "a08c4c6f",
   "metadata": {},
   "outputs": [
    {
     "data": {
      "text/plain": [
       "OverallQual\n",
       "4    [RL, RM]\n",
       "5    [RL, RM]\n",
       "6        [RL]\n",
       "7    [RL, RM]\n",
       "8        [RL]\n",
       "9        [RL]\n",
       "Name: Zones, dtype: object"
      ]
     },
     "execution_count": 32,
     "metadata": {},
     "output_type": "execute_result"
    }
   ],
   "source": [
    "df.groupby('OverallQual')['Zones'].unique()"
   ]
  },
  {
   "cell_type": "markdown",
   "id": "81dce8a9",
   "metadata": {},
   "source": [
    "10.\tWhat is the maximum LotArea where  BsmtExposure = Mn?"
   ]
  },
  {
   "cell_type": "code",
   "execution_count": 33,
   "id": "4a9c7cfb",
   "metadata": {},
   "outputs": [
    {
     "data": {
      "text/plain": [
       "11250"
      ]
     },
     "execution_count": 33,
     "metadata": {},
     "output_type": "execute_result"
    }
   ],
   "source": [
    "df[df.BsmtExposure=='Mn']['LotArea'].max()"
   ]
  },
  {
   "cell_type": "markdown",
   "id": "7d897fe7",
   "metadata": {},
   "source": [
    "11.\tSort dataframe based on following columns and orders: MSSubClass; ascending, YearBuilt; descending"
   ]
  },
  {
   "cell_type": "code",
   "execution_count": 35,
   "id": "04c18b84",
   "metadata": {},
   "outputs": [
    {
     "data": {
      "text/html": [
       "<div>\n",
       "<style scoped>\n",
       "    .dataframe tbody tr th:only-of-type {\n",
       "        vertical-align: middle;\n",
       "    }\n",
       "\n",
       "    .dataframe tbody tr th {\n",
       "        vertical-align: top;\n",
       "    }\n",
       "\n",
       "    .dataframe thead th {\n",
       "        text-align: right;\n",
       "    }\n",
       "</style>\n",
       "<table border=\"1\" class=\"dataframe\">\n",
       "  <thead>\n",
       "    <tr style=\"text-align: right;\">\n",
       "      <th></th>\n",
       "      <th>SubClass</th>\n",
       "      <th>Zones</th>\n",
       "      <th>LotArea</th>\n",
       "      <th>LotShape</th>\n",
       "      <th>LotConfig</th>\n",
       "      <th>LandSlope</th>\n",
       "      <th>OverallQual</th>\n",
       "      <th>YearBuilt</th>\n",
       "      <th>MasVnrArea</th>\n",
       "      <th>ExterQual</th>\n",
       "      <th>BsmtExposure</th>\n",
       "      <th>year_diff.</th>\n",
       "    </tr>\n",
       "  </thead>\n",
       "  <tbody>\n",
       "    <tr>\n",
       "      <th>25</th>\n",
       "      <td>20</td>\n",
       "      <td>RL</td>\n",
       "      <td>14230</td>\n",
       "      <td>Reg</td>\n",
       "      <td>Corner</td>\n",
       "      <td>Gtl</td>\n",
       "      <td>8</td>\n",
       "      <td>2007</td>\n",
       "      <td>640</td>\n",
       "      <td>Gd</td>\n",
       "      <td>No</td>\n",
       "      <td>14</td>\n",
       "    </tr>\n",
       "    <tr>\n",
       "      <th>27</th>\n",
       "      <td>20</td>\n",
       "      <td>RL</td>\n",
       "      <td>11478</td>\n",
       "      <td>Reg</td>\n",
       "      <td>Inside</td>\n",
       "      <td>Gtl</td>\n",
       "      <td>8</td>\n",
       "      <td>2007</td>\n",
       "      <td>200</td>\n",
       "      <td>Gd</td>\n",
       "      <td>No</td>\n",
       "      <td>14</td>\n",
       "    </tr>\n",
       "    <tr>\n",
       "      <th>13</th>\n",
       "      <td>20</td>\n",
       "      <td>RL</td>\n",
       "      <td>10652</td>\n",
       "      <td>IR1</td>\n",
       "      <td>Inside</td>\n",
       "      <td>Gtl</td>\n",
       "      <td>7</td>\n",
       "      <td>2006</td>\n",
       "      <td>306</td>\n",
       "      <td>Gd</td>\n",
       "      <td>Av</td>\n",
       "      <td>15</td>\n",
       "    </tr>\n",
       "    <tr>\n",
       "      <th>6</th>\n",
       "      <td>20</td>\n",
       "      <td>RL</td>\n",
       "      <td>10084</td>\n",
       "      <td>Reg</td>\n",
       "      <td>Inside</td>\n",
       "      <td>Gtl</td>\n",
       "      <td>8</td>\n",
       "      <td>2004</td>\n",
       "      <td>186</td>\n",
       "      <td>Gd</td>\n",
       "      <td>Av</td>\n",
       "      <td>17</td>\n",
       "    </tr>\n",
       "    <tr>\n",
       "      <th>18</th>\n",
       "      <td>20</td>\n",
       "      <td>RL</td>\n",
       "      <td>13695</td>\n",
       "      <td>Reg</td>\n",
       "      <td>Inside</td>\n",
       "      <td>Gtl</td>\n",
       "      <td>5</td>\n",
       "      <td>2004</td>\n",
       "      <td>0</td>\n",
       "      <td>TA</td>\n",
       "      <td>No</td>\n",
       "      <td>17</td>\n",
       "    </tr>\n",
       "  </tbody>\n",
       "</table>\n",
       "</div>"
      ],
      "text/plain": [
       "    SubClass Zones  LotArea LotShape LotConfig LandSlope  OverallQual  YearBuilt  MasVnrArea ExterQual BsmtExposure  year_diff.\n",
       "25        20    RL    14230      Reg    Corner       Gtl            8       2007         640        Gd           No          14\n",
       "27        20    RL    11478      Reg    Inside       Gtl            8       2007         200        Gd           No          14\n",
       "13        20    RL    10652      IR1    Inside       Gtl            7       2006         306        Gd           Av          15\n",
       "6         20    RL    10084      Reg    Inside       Gtl            8       2004         186        Gd           Av          17\n",
       "18        20    RL    13695      Reg    Inside       Gtl            5       2004           0        TA           No          17"
      ]
     },
     "execution_count": 35,
     "metadata": {},
     "output_type": "execute_result"
    }
   ],
   "source": [
    "sorted_df=df.sort_values(['SubClass','YearBuilt'],ascending=[True,False])\n",
    "sorted_df.head()"
   ]
  },
  {
   "cell_type": "markdown",
   "id": "d7296398",
   "metadata": {},
   "source": [
    "12.\tWhat is average OverallQual."
   ]
  },
  {
   "cell_type": "code",
   "execution_count": 36,
   "id": "cce1bf1c",
   "metadata": {},
   "outputs": [
    {
     "data": {
      "text/plain": [
       "6.3"
      ]
     },
     "execution_count": 36,
     "metadata": {},
     "output_type": "execute_result"
    }
   ],
   "source": [
    "df['OverallQual'].mean()"
   ]
  },
  {
   "cell_type": "markdown",
   "id": "cc1dee26",
   "metadata": {},
   "source": [
    "13.\tconvert column ‘YearBuilt’ into date type"
   ]
  },
  {
   "cell_type": "code",
   "execution_count": 43,
   "id": "457cad16",
   "metadata": {},
   "outputs": [
    {
     "data": {
      "text/html": [
       "<div>\n",
       "<style scoped>\n",
       "    .dataframe tbody tr th:only-of-type {\n",
       "        vertical-align: middle;\n",
       "    }\n",
       "\n",
       "    .dataframe tbody tr th {\n",
       "        vertical-align: top;\n",
       "    }\n",
       "\n",
       "    .dataframe thead th {\n",
       "        text-align: right;\n",
       "    }\n",
       "</style>\n",
       "<table border=\"1\" class=\"dataframe\">\n",
       "  <thead>\n",
       "    <tr style=\"text-align: right;\">\n",
       "      <th></th>\n",
       "      <th>SubClass</th>\n",
       "      <th>Zones</th>\n",
       "      <th>LotArea</th>\n",
       "      <th>LotShape</th>\n",
       "      <th>LotConfig</th>\n",
       "      <th>LandSlope</th>\n",
       "      <th>OverallQual</th>\n",
       "      <th>YearBuilt</th>\n",
       "      <th>MasVnrArea</th>\n",
       "      <th>ExterQual</th>\n",
       "      <th>BsmtExposure</th>\n",
       "      <th>year_diff.</th>\n",
       "      <th>YearBuilt_DT</th>\n",
       "    </tr>\n",
       "  </thead>\n",
       "  <tbody>\n",
       "    <tr>\n",
       "      <th>0</th>\n",
       "      <td>60</td>\n",
       "      <td>RL</td>\n",
       "      <td>8450</td>\n",
       "      <td>Reg</td>\n",
       "      <td>Inside</td>\n",
       "      <td>Gtl</td>\n",
       "      <td>7</td>\n",
       "      <td>2003</td>\n",
       "      <td>196</td>\n",
       "      <td>Gd</td>\n",
       "      <td>No</td>\n",
       "      <td>18</td>\n",
       "      <td>1970-01-01 00:00:00.000002003</td>\n",
       "    </tr>\n",
       "    <tr>\n",
       "      <th>1</th>\n",
       "      <td>20</td>\n",
       "      <td>RL</td>\n",
       "      <td>9600</td>\n",
       "      <td>Reg</td>\n",
       "      <td>FR2</td>\n",
       "      <td>Gtl</td>\n",
       "      <td>6</td>\n",
       "      <td>1976</td>\n",
       "      <td>0</td>\n",
       "      <td>TA</td>\n",
       "      <td>Gd</td>\n",
       "      <td>45</td>\n",
       "      <td>1970-01-01 00:00:00.000001976</td>\n",
       "    </tr>\n",
       "    <tr>\n",
       "      <th>2</th>\n",
       "      <td>60</td>\n",
       "      <td>RL</td>\n",
       "      <td>11250</td>\n",
       "      <td>IR1</td>\n",
       "      <td>Inside</td>\n",
       "      <td>Gtl</td>\n",
       "      <td>7</td>\n",
       "      <td>2001</td>\n",
       "      <td>162</td>\n",
       "      <td>Gd</td>\n",
       "      <td>Mn</td>\n",
       "      <td>20</td>\n",
       "      <td>1970-01-01 00:00:00.000002001</td>\n",
       "    </tr>\n",
       "    <tr>\n",
       "      <th>3</th>\n",
       "      <td>70</td>\n",
       "      <td>RL</td>\n",
       "      <td>9550</td>\n",
       "      <td>IR1</td>\n",
       "      <td>Corner</td>\n",
       "      <td>Gtl</td>\n",
       "      <td>7</td>\n",
       "      <td>1915</td>\n",
       "      <td>0</td>\n",
       "      <td>TA</td>\n",
       "      <td>No</td>\n",
       "      <td>106</td>\n",
       "      <td>1970-01-01 00:00:00.000001915</td>\n",
       "    </tr>\n",
       "    <tr>\n",
       "      <th>4</th>\n",
       "      <td>60</td>\n",
       "      <td>RL</td>\n",
       "      <td>14260</td>\n",
       "      <td>IR1</td>\n",
       "      <td>FR2</td>\n",
       "      <td>Gtl</td>\n",
       "      <td>8</td>\n",
       "      <td>2000</td>\n",
       "      <td>350</td>\n",
       "      <td>Gd</td>\n",
       "      <td>Av</td>\n",
       "      <td>21</td>\n",
       "      <td>1970-01-01 00:00:00.000002000</td>\n",
       "    </tr>\n",
       "  </tbody>\n",
       "</table>\n",
       "</div>"
      ],
      "text/plain": [
       "   SubClass Zones  LotArea LotShape LotConfig LandSlope  OverallQual  YearBuilt  MasVnrArea ExterQual BsmtExposure  year_diff.                  YearBuilt_DT\n",
       "0        60    RL     8450      Reg    Inside       Gtl            7       2003         196        Gd           No          18 1970-01-01 00:00:00.000002003\n",
       "1        20    RL     9600      Reg       FR2       Gtl            6       1976           0        TA           Gd          45 1970-01-01 00:00:00.000001976\n",
       "2        60    RL    11250      IR1    Inside       Gtl            7       2001         162        Gd           Mn          20 1970-01-01 00:00:00.000002001\n",
       "3        70    RL     9550      IR1    Corner       Gtl            7       1915           0        TA           No         106 1970-01-01 00:00:00.000001915\n",
       "4        60    RL    14260      IR1       FR2       Gtl            8       2000         350        Gd           Av          21 1970-01-01 00:00:00.000002000"
      ]
     },
     "execution_count": 43,
     "metadata": {},
     "output_type": "execute_result"
    }
   ],
   "source": [
    "df['YearBuilt_DT']=pd.to_datetime(df.YearBuilt)\n",
    "df.head()"
   ]
  },
  {
   "cell_type": "markdown",
   "id": "0a1122b4",
   "metadata": {},
   "source": [
    "14.\tGroup by YearBuilt and find maximum OverallQal"
   ]
  },
  {
   "cell_type": "code",
   "execution_count": 45,
   "id": "a6198dcd",
   "metadata": {},
   "outputs": [
    {
     "data": {
      "text/plain": [
       "YearBuilt\n",
       "1915    7\n",
       "1927    4\n",
       "1929    7\n",
       "1930    7\n",
       "1931    7\n",
       "Name: OverallQual, dtype: int64"
      ]
     },
     "execution_count": 45,
     "metadata": {},
     "output_type": "execute_result"
    }
   ],
   "source": [
    "df.groupby('YearBuilt')['OverallQual'].max().head()"
   ]
  },
  {
   "cell_type": "markdown",
   "id": "1dcfe02e",
   "metadata": {},
   "source": [
    "15.\tLoad the practice.csv again with MSSubClass as new index"
   ]
  },
  {
   "cell_type": "code",
   "execution_count": 46,
   "id": "c6498cd1",
   "metadata": {},
   "outputs": [
    {
     "data": {
      "text/html": [
       "<div>\n",
       "<style scoped>\n",
       "    .dataframe tbody tr th:only-of-type {\n",
       "        vertical-align: middle;\n",
       "    }\n",
       "\n",
       "    .dataframe tbody tr th {\n",
       "        vertical-align: top;\n",
       "    }\n",
       "\n",
       "    .dataframe thead th {\n",
       "        text-align: right;\n",
       "    }\n",
       "</style>\n",
       "<table border=\"1\" class=\"dataframe\">\n",
       "  <thead>\n",
       "    <tr style=\"text-align: right;\">\n",
       "      <th></th>\n",
       "      <th>MSZoning</th>\n",
       "      <th>LotArea</th>\n",
       "      <th>LotShape</th>\n",
       "      <th>LotConfig</th>\n",
       "      <th>LandSlope</th>\n",
       "      <th>OverallQual</th>\n",
       "      <th>YearBuilt</th>\n",
       "      <th>MasVnrArea</th>\n",
       "      <th>ExterQual</th>\n",
       "      <th>BsmtExposure</th>\n",
       "    </tr>\n",
       "    <tr>\n",
       "      <th>MSSubClass</th>\n",
       "      <th></th>\n",
       "      <th></th>\n",
       "      <th></th>\n",
       "      <th></th>\n",
       "      <th></th>\n",
       "      <th></th>\n",
       "      <th></th>\n",
       "      <th></th>\n",
       "      <th></th>\n",
       "      <th></th>\n",
       "    </tr>\n",
       "  </thead>\n",
       "  <tbody>\n",
       "    <tr>\n",
       "      <th>60</th>\n",
       "      <td>RL</td>\n",
       "      <td>8450</td>\n",
       "      <td>Reg</td>\n",
       "      <td>Inside</td>\n",
       "      <td>Gtl</td>\n",
       "      <td>7</td>\n",
       "      <td>2003</td>\n",
       "      <td>196</td>\n",
       "      <td>Gd</td>\n",
       "      <td>No</td>\n",
       "    </tr>\n",
       "    <tr>\n",
       "      <th>20</th>\n",
       "      <td>RL</td>\n",
       "      <td>9600</td>\n",
       "      <td>Reg</td>\n",
       "      <td>FR2</td>\n",
       "      <td>Gtl</td>\n",
       "      <td>6</td>\n",
       "      <td>1976</td>\n",
       "      <td>0</td>\n",
       "      <td>TA</td>\n",
       "      <td>Gd</td>\n",
       "    </tr>\n",
       "    <tr>\n",
       "      <th>60</th>\n",
       "      <td>RL</td>\n",
       "      <td>11250</td>\n",
       "      <td>IR1</td>\n",
       "      <td>Inside</td>\n",
       "      <td>Gtl</td>\n",
       "      <td>7</td>\n",
       "      <td>2001</td>\n",
       "      <td>162</td>\n",
       "      <td>Gd</td>\n",
       "      <td>Mn</td>\n",
       "    </tr>\n",
       "    <tr>\n",
       "      <th>70</th>\n",
       "      <td>RL</td>\n",
       "      <td>9550</td>\n",
       "      <td>IR1</td>\n",
       "      <td>Corner</td>\n",
       "      <td>Gtl</td>\n",
       "      <td>7</td>\n",
       "      <td>1915</td>\n",
       "      <td>0</td>\n",
       "      <td>TA</td>\n",
       "      <td>No</td>\n",
       "    </tr>\n",
       "    <tr>\n",
       "      <th>60</th>\n",
       "      <td>RL</td>\n",
       "      <td>14260</td>\n",
       "      <td>IR1</td>\n",
       "      <td>FR2</td>\n",
       "      <td>Gtl</td>\n",
       "      <td>8</td>\n",
       "      <td>2000</td>\n",
       "      <td>350</td>\n",
       "      <td>Gd</td>\n",
       "      <td>Av</td>\n",
       "    </tr>\n",
       "  </tbody>\n",
       "</table>\n",
       "</div>"
      ],
      "text/plain": [
       "           MSZoning  LotArea LotShape LotConfig LandSlope  OverallQual  YearBuilt  MasVnrArea ExterQual BsmtExposure\n",
       "MSSubClass                                                                                                          \n",
       "60               RL     8450      Reg    Inside       Gtl            7       2003         196        Gd           No\n",
       "20               RL     9600      Reg       FR2       Gtl            6       1976           0        TA           Gd\n",
       "60               RL    11250      IR1    Inside       Gtl            7       2001         162        Gd           Mn\n",
       "70               RL     9550      IR1    Corner       Gtl            7       1915           0        TA           No\n",
       "60               RL    14260      IR1       FR2       Gtl            8       2000         350        Gd           Av"
      ]
     },
     "execution_count": 46,
     "metadata": {},
     "output_type": "execute_result"
    }
   ],
   "source": [
    "df2=pd.read_csv('practice.csv',index_col='MSSubClass')\n",
    "df2.head()"
   ]
  },
  {
   "cell_type": "markdown",
   "id": "9a7c3148",
   "metadata": {},
   "source": [
    "16.\tConvert LotArea as numpy array"
   ]
  },
  {
   "cell_type": "code",
   "execution_count": 47,
   "id": "84545e42",
   "metadata": {},
   "outputs": [
    {
     "data": {
      "text/plain": [
       "array([ 8450,  9600, 11250,  9550, 14260, 14115, 10084, 10382,  6120,\n",
       "        7420, 11200, 11924, 12968, 10652, 10920,  6120, 11241, 10791,\n",
       "       13695,  7560, 14215,  7449,  9742,  4224,  8246, 14230,  7200,\n",
       "       11478, 16321,  6324], dtype=int64)"
      ]
     },
     "execution_count": 47,
     "metadata": {},
     "output_type": "execute_result"
    }
   ],
   "source": [
    "df.LotArea.values"
   ]
  },
  {
   "cell_type": "markdown",
   "id": "27d697a6",
   "metadata": {},
   "source": [
    "17.\tIn column MasVnrArea replace 0 with -1"
   ]
  },
  {
   "cell_type": "code",
   "execution_count": 52,
   "id": "9808a11d",
   "metadata": {},
   "outputs": [
    {
     "data": {
      "text/html": [
       "<div>\n",
       "<style scoped>\n",
       "    .dataframe tbody tr th:only-of-type {\n",
       "        vertical-align: middle;\n",
       "    }\n",
       "\n",
       "    .dataframe tbody tr th {\n",
       "        vertical-align: top;\n",
       "    }\n",
       "\n",
       "    .dataframe thead th {\n",
       "        text-align: right;\n",
       "    }\n",
       "</style>\n",
       "<table border=\"1\" class=\"dataframe\">\n",
       "  <thead>\n",
       "    <tr style=\"text-align: right;\">\n",
       "      <th></th>\n",
       "      <th>SubClass</th>\n",
       "      <th>Zones</th>\n",
       "      <th>LotArea</th>\n",
       "      <th>LotShape</th>\n",
       "      <th>LotConfig</th>\n",
       "      <th>LandSlope</th>\n",
       "      <th>OverallQual</th>\n",
       "      <th>YearBuilt</th>\n",
       "      <th>MasVnrArea</th>\n",
       "      <th>ExterQual</th>\n",
       "      <th>BsmtExposure</th>\n",
       "      <th>year_diff.</th>\n",
       "      <th>YearBuilt_DT</th>\n",
       "      <th>MasVnrArea_M</th>\n",
       "    </tr>\n",
       "  </thead>\n",
       "  <tbody>\n",
       "    <tr>\n",
       "      <th>0</th>\n",
       "      <td>60</td>\n",
       "      <td>RL</td>\n",
       "      <td>8450</td>\n",
       "      <td>Reg</td>\n",
       "      <td>Inside</td>\n",
       "      <td>Gtl</td>\n",
       "      <td>7</td>\n",
       "      <td>2003</td>\n",
       "      <td>196</td>\n",
       "      <td>Gd</td>\n",
       "      <td>No</td>\n",
       "      <td>18</td>\n",
       "      <td>1970-01-01 00:00:00.000002003</td>\n",
       "      <td>196</td>\n",
       "    </tr>\n",
       "    <tr>\n",
       "      <th>1</th>\n",
       "      <td>20</td>\n",
       "      <td>RL</td>\n",
       "      <td>9600</td>\n",
       "      <td>Reg</td>\n",
       "      <td>FR2</td>\n",
       "      <td>Gtl</td>\n",
       "      <td>6</td>\n",
       "      <td>1976</td>\n",
       "      <td>0</td>\n",
       "      <td>TA</td>\n",
       "      <td>Gd</td>\n",
       "      <td>45</td>\n",
       "      <td>1970-01-01 00:00:00.000001976</td>\n",
       "      <td>-1</td>\n",
       "    </tr>\n",
       "    <tr>\n",
       "      <th>2</th>\n",
       "      <td>60</td>\n",
       "      <td>RL</td>\n",
       "      <td>11250</td>\n",
       "      <td>IR1</td>\n",
       "      <td>Inside</td>\n",
       "      <td>Gtl</td>\n",
       "      <td>7</td>\n",
       "      <td>2001</td>\n",
       "      <td>162</td>\n",
       "      <td>Gd</td>\n",
       "      <td>Mn</td>\n",
       "      <td>20</td>\n",
       "      <td>1970-01-01 00:00:00.000002001</td>\n",
       "      <td>162</td>\n",
       "    </tr>\n",
       "    <tr>\n",
       "      <th>3</th>\n",
       "      <td>70</td>\n",
       "      <td>RL</td>\n",
       "      <td>9550</td>\n",
       "      <td>IR1</td>\n",
       "      <td>Corner</td>\n",
       "      <td>Gtl</td>\n",
       "      <td>7</td>\n",
       "      <td>1915</td>\n",
       "      <td>0</td>\n",
       "      <td>TA</td>\n",
       "      <td>No</td>\n",
       "      <td>106</td>\n",
       "      <td>1970-01-01 00:00:00.000001915</td>\n",
       "      <td>-1</td>\n",
       "    </tr>\n",
       "    <tr>\n",
       "      <th>4</th>\n",
       "      <td>60</td>\n",
       "      <td>RL</td>\n",
       "      <td>14260</td>\n",
       "      <td>IR1</td>\n",
       "      <td>FR2</td>\n",
       "      <td>Gtl</td>\n",
       "      <td>8</td>\n",
       "      <td>2000</td>\n",
       "      <td>350</td>\n",
       "      <td>Gd</td>\n",
       "      <td>Av</td>\n",
       "      <td>21</td>\n",
       "      <td>1970-01-01 00:00:00.000002000</td>\n",
       "      <td>350</td>\n",
       "    </tr>\n",
       "  </tbody>\n",
       "</table>\n",
       "</div>"
      ],
      "text/plain": [
       "   SubClass Zones  LotArea LotShape LotConfig LandSlope  OverallQual  YearBuilt  MasVnrArea ExterQual BsmtExposure  year_diff.                  YearBuilt_DT  MasVnrArea_M\n",
       "0        60    RL     8450      Reg    Inside       Gtl            7       2003         196        Gd           No          18 1970-01-01 00:00:00.000002003           196\n",
       "1        20    RL     9600      Reg       FR2       Gtl            6       1976           0        TA           Gd          45 1970-01-01 00:00:00.000001976            -1\n",
       "2        60    RL    11250      IR1    Inside       Gtl            7       2001         162        Gd           Mn          20 1970-01-01 00:00:00.000002001           162\n",
       "3        70    RL     9550      IR1    Corner       Gtl            7       1915           0        TA           No         106 1970-01-01 00:00:00.000001915            -1\n",
       "4        60    RL    14260      IR1       FR2       Gtl            8       2000         350        Gd           Av          21 1970-01-01 00:00:00.000002000           350"
      ]
     },
     "execution_count": 52,
     "metadata": {},
     "output_type": "execute_result"
    }
   ],
   "source": [
    "df['MasVnrArea_M']=np.where(df.MasVnrArea==0,-1,df.MasVnrArea)\n",
    "df.head()"
   ]
  },
  {
   "cell_type": "markdown",
   "id": "4c6ff106",
   "metadata": {},
   "source": [
    "18.\tCheck if there is/are any Null values (NaN) in the data given"
   ]
  },
  {
   "cell_type": "code",
   "execution_count": 54,
   "id": "1ff726bc",
   "metadata": {},
   "outputs": [
    {
     "data": {
      "text/plain": [
       "SubClass        0\n",
       "Zones           0\n",
       "LotArea         0\n",
       "LotShape        0\n",
       "LotConfig       0\n",
       "LandSlope       0\n",
       "OverallQual     0\n",
       "YearBuilt       0\n",
       "MasVnrArea      0\n",
       "ExterQual       0\n",
       "BsmtExposure    1\n",
       "year_diff.      0\n",
       "YearBuilt_DT    0\n",
       "MasVnrArea_M    0\n",
       "dtype: int64"
      ]
     },
     "execution_count": 54,
     "metadata": {},
     "output_type": "execute_result"
    }
   ],
   "source": [
    "df.isnull().sum()"
   ]
  },
  {
   "cell_type": "markdown",
   "id": "bce3c0de",
   "metadata": {},
   "source": [
    "19.\tDisplay percentage of missing values in each column if any"
   ]
  },
  {
   "cell_type": "code",
   "execution_count": 57,
   "id": "1072f835",
   "metadata": {},
   "outputs": [
    {
     "data": {
      "text/html": [
       "<div>\n",
       "<style scoped>\n",
       "    .dataframe tbody tr th:only-of-type {\n",
       "        vertical-align: middle;\n",
       "    }\n",
       "\n",
       "    .dataframe tbody tr th {\n",
       "        vertical-align: top;\n",
       "    }\n",
       "\n",
       "    .dataframe thead th {\n",
       "        text-align: right;\n",
       "    }\n",
       "</style>\n",
       "<table border=\"1\" class=\"dataframe\">\n",
       "  <thead>\n",
       "    <tr style=\"text-align: right;\">\n",
       "      <th></th>\n",
       "      <th>count</th>\n",
       "      <th>%age</th>\n",
       "    </tr>\n",
       "  </thead>\n",
       "  <tbody>\n",
       "    <tr>\n",
       "      <th>BsmtExposure</th>\n",
       "      <td>1</td>\n",
       "      <td>3.333333</td>\n",
       "    </tr>\n",
       "    <tr>\n",
       "      <th>SubClass</th>\n",
       "      <td>0</td>\n",
       "      <td>0.000000</td>\n",
       "    </tr>\n",
       "    <tr>\n",
       "      <th>Zones</th>\n",
       "      <td>0</td>\n",
       "      <td>0.000000</td>\n",
       "    </tr>\n",
       "    <tr>\n",
       "      <th>LotArea</th>\n",
       "      <td>0</td>\n",
       "      <td>0.000000</td>\n",
       "    </tr>\n",
       "    <tr>\n",
       "      <th>LotShape</th>\n",
       "      <td>0</td>\n",
       "      <td>0.000000</td>\n",
       "    </tr>\n",
       "    <tr>\n",
       "      <th>LotConfig</th>\n",
       "      <td>0</td>\n",
       "      <td>0.000000</td>\n",
       "    </tr>\n",
       "    <tr>\n",
       "      <th>LandSlope</th>\n",
       "      <td>0</td>\n",
       "      <td>0.000000</td>\n",
       "    </tr>\n",
       "    <tr>\n",
       "      <th>OverallQual</th>\n",
       "      <td>0</td>\n",
       "      <td>0.000000</td>\n",
       "    </tr>\n",
       "    <tr>\n",
       "      <th>YearBuilt</th>\n",
       "      <td>0</td>\n",
       "      <td>0.000000</td>\n",
       "    </tr>\n",
       "    <tr>\n",
       "      <th>MasVnrArea</th>\n",
       "      <td>0</td>\n",
       "      <td>0.000000</td>\n",
       "    </tr>\n",
       "    <tr>\n",
       "      <th>ExterQual</th>\n",
       "      <td>0</td>\n",
       "      <td>0.000000</td>\n",
       "    </tr>\n",
       "    <tr>\n",
       "      <th>year_diff.</th>\n",
       "      <td>0</td>\n",
       "      <td>0.000000</td>\n",
       "    </tr>\n",
       "    <tr>\n",
       "      <th>YearBuilt_DT</th>\n",
       "      <td>0</td>\n",
       "      <td>0.000000</td>\n",
       "    </tr>\n",
       "    <tr>\n",
       "      <th>MasVnrArea_M</th>\n",
       "      <td>0</td>\n",
       "      <td>0.000000</td>\n",
       "    </tr>\n",
       "  </tbody>\n",
       "</table>\n",
       "</div>"
      ],
      "text/plain": [
       "              count      %age\n",
       "BsmtExposure      1  3.333333\n",
       "SubClass          0  0.000000\n",
       "Zones             0  0.000000\n",
       "LotArea           0  0.000000\n",
       "LotShape          0  0.000000\n",
       "LotConfig         0  0.000000\n",
       "LandSlope         0  0.000000\n",
       "OverallQual       0  0.000000\n",
       "YearBuilt         0  0.000000\n",
       "MasVnrArea        0  0.000000\n",
       "ExterQual         0  0.000000\n",
       "year_diff.        0  0.000000\n",
       "YearBuilt_DT      0  0.000000\n",
       "MasVnrArea_M      0  0.000000"
      ]
     },
     "execution_count": 57,
     "metadata": {},
     "output_type": "execute_result"
    }
   ],
   "source": [
    "count=df.isnull().sum()\n",
    "per=df.isnull().sum()/df.shape[0]*100\n",
    "pd.concat([count,per],axis=1,keys=['count','%age']).sort_values('count',ascending=False)\n"
   ]
  },
  {
   "cell_type": "markdown",
   "id": "e34e8afd",
   "metadata": {},
   "source": [
    "20.\tSelect records where LotConfig is Inside"
   ]
  },
  {
   "cell_type": "code",
   "execution_count": 59,
   "id": "46cfa9b8",
   "metadata": {},
   "outputs": [
    {
     "data": {
      "text/html": [
       "<div>\n",
       "<style scoped>\n",
       "    .dataframe tbody tr th:only-of-type {\n",
       "        vertical-align: middle;\n",
       "    }\n",
       "\n",
       "    .dataframe tbody tr th {\n",
       "        vertical-align: top;\n",
       "    }\n",
       "\n",
       "    .dataframe thead th {\n",
       "        text-align: right;\n",
       "    }\n",
       "</style>\n",
       "<table border=\"1\" class=\"dataframe\">\n",
       "  <thead>\n",
       "    <tr style=\"text-align: right;\">\n",
       "      <th></th>\n",
       "      <th>SubClass</th>\n",
       "      <th>Zones</th>\n",
       "      <th>LotArea</th>\n",
       "      <th>LotShape</th>\n",
       "      <th>LotConfig</th>\n",
       "      <th>LandSlope</th>\n",
       "      <th>OverallQual</th>\n",
       "      <th>YearBuilt</th>\n",
       "      <th>MasVnrArea</th>\n",
       "      <th>ExterQual</th>\n",
       "      <th>BsmtExposure</th>\n",
       "      <th>year_diff.</th>\n",
       "      <th>YearBuilt_DT</th>\n",
       "      <th>MasVnrArea_M</th>\n",
       "    </tr>\n",
       "  </thead>\n",
       "  <tbody>\n",
       "    <tr>\n",
       "      <th>0</th>\n",
       "      <td>60</td>\n",
       "      <td>RL</td>\n",
       "      <td>8450</td>\n",
       "      <td>Reg</td>\n",
       "      <td>Inside</td>\n",
       "      <td>Gtl</td>\n",
       "      <td>7</td>\n",
       "      <td>2003</td>\n",
       "      <td>196</td>\n",
       "      <td>Gd</td>\n",
       "      <td>No</td>\n",
       "      <td>18</td>\n",
       "      <td>1970-01-01 00:00:00.000002003</td>\n",
       "      <td>196</td>\n",
       "    </tr>\n",
       "    <tr>\n",
       "      <th>2</th>\n",
       "      <td>60</td>\n",
       "      <td>RL</td>\n",
       "      <td>11250</td>\n",
       "      <td>IR1</td>\n",
       "      <td>Inside</td>\n",
       "      <td>Gtl</td>\n",
       "      <td>7</td>\n",
       "      <td>2001</td>\n",
       "      <td>162</td>\n",
       "      <td>Gd</td>\n",
       "      <td>Mn</td>\n",
       "      <td>20</td>\n",
       "      <td>1970-01-01 00:00:00.000002001</td>\n",
       "      <td>162</td>\n",
       "    </tr>\n",
       "    <tr>\n",
       "      <th>5</th>\n",
       "      <td>50</td>\n",
       "      <td>RL</td>\n",
       "      <td>14115</td>\n",
       "      <td>IR1</td>\n",
       "      <td>Inside</td>\n",
       "      <td>Gtl</td>\n",
       "      <td>5</td>\n",
       "      <td>1993</td>\n",
       "      <td>0</td>\n",
       "      <td>TA</td>\n",
       "      <td>No</td>\n",
       "      <td>28</td>\n",
       "      <td>1970-01-01 00:00:00.000001993</td>\n",
       "      <td>-1</td>\n",
       "    </tr>\n",
       "    <tr>\n",
       "      <th>6</th>\n",
       "      <td>20</td>\n",
       "      <td>RL</td>\n",
       "      <td>10084</td>\n",
       "      <td>Reg</td>\n",
       "      <td>Inside</td>\n",
       "      <td>Gtl</td>\n",
       "      <td>8</td>\n",
       "      <td>2004</td>\n",
       "      <td>186</td>\n",
       "      <td>Gd</td>\n",
       "      <td>Av</td>\n",
       "      <td>17</td>\n",
       "      <td>1970-01-01 00:00:00.000002004</td>\n",
       "      <td>186</td>\n",
       "    </tr>\n",
       "    <tr>\n",
       "      <th>8</th>\n",
       "      <td>50</td>\n",
       "      <td>RM</td>\n",
       "      <td>6120</td>\n",
       "      <td>Reg</td>\n",
       "      <td>Inside</td>\n",
       "      <td>Gtl</td>\n",
       "      <td>7</td>\n",
       "      <td>1931</td>\n",
       "      <td>0</td>\n",
       "      <td>TA</td>\n",
       "      <td>No</td>\n",
       "      <td>90</td>\n",
       "      <td>1970-01-01 00:00:00.000001931</td>\n",
       "      <td>-1</td>\n",
       "    </tr>\n",
       "  </tbody>\n",
       "</table>\n",
       "</div>"
      ],
      "text/plain": [
       "   SubClass Zones  LotArea LotShape LotConfig LandSlope  OverallQual  YearBuilt  MasVnrArea ExterQual BsmtExposure  year_diff.                  YearBuilt_DT  MasVnrArea_M\n",
       "0        60    RL     8450      Reg    Inside       Gtl            7       2003         196        Gd           No          18 1970-01-01 00:00:00.000002003           196\n",
       "2        60    RL    11250      IR1    Inside       Gtl            7       2001         162        Gd           Mn          20 1970-01-01 00:00:00.000002001           162\n",
       "5        50    RL    14115      IR1    Inside       Gtl            5       1993           0        TA           No          28 1970-01-01 00:00:00.000001993            -1\n",
       "6        20    RL    10084      Reg    Inside       Gtl            8       2004         186        Gd           Av          17 1970-01-01 00:00:00.000002004           186\n",
       "8        50    RM     6120      Reg    Inside       Gtl            7       1931           0        TA           No          90 1970-01-01 00:00:00.000001931            -1"
      ]
     },
     "execution_count": 59,
     "metadata": {},
     "output_type": "execute_result"
    }
   ],
   "source": [
    "df[df.LotConfig=='Inside'].head()"
   ]
  },
  {
   "cell_type": "markdown",
   "id": "6dbffc93",
   "metadata": {},
   "source": [
    "21.\tMake a new dataframe with only numeric columns"
   ]
  },
  {
   "cell_type": "code",
   "execution_count": 61,
   "id": "37948c7c",
   "metadata": {},
   "outputs": [
    {
     "data": {
      "text/html": [
       "<div>\n",
       "<style scoped>\n",
       "    .dataframe tbody tr th:only-of-type {\n",
       "        vertical-align: middle;\n",
       "    }\n",
       "\n",
       "    .dataframe tbody tr th {\n",
       "        vertical-align: top;\n",
       "    }\n",
       "\n",
       "    .dataframe thead th {\n",
       "        text-align: right;\n",
       "    }\n",
       "</style>\n",
       "<table border=\"1\" class=\"dataframe\">\n",
       "  <thead>\n",
       "    <tr style=\"text-align: right;\">\n",
       "      <th></th>\n",
       "      <th>LotArea</th>\n",
       "      <th>OverallQual</th>\n",
       "      <th>YearBuilt</th>\n",
       "      <th>MasVnrArea</th>\n",
       "    </tr>\n",
       "    <tr>\n",
       "      <th>MSSubClass</th>\n",
       "      <th></th>\n",
       "      <th></th>\n",
       "      <th></th>\n",
       "      <th></th>\n",
       "    </tr>\n",
       "  </thead>\n",
       "  <tbody>\n",
       "    <tr>\n",
       "      <th>60</th>\n",
       "      <td>8450</td>\n",
       "      <td>7</td>\n",
       "      <td>2003</td>\n",
       "      <td>196</td>\n",
       "    </tr>\n",
       "    <tr>\n",
       "      <th>20</th>\n",
       "      <td>9600</td>\n",
       "      <td>6</td>\n",
       "      <td>1976</td>\n",
       "      <td>0</td>\n",
       "    </tr>\n",
       "    <tr>\n",
       "      <th>60</th>\n",
       "      <td>11250</td>\n",
       "      <td>7</td>\n",
       "      <td>2001</td>\n",
       "      <td>162</td>\n",
       "    </tr>\n",
       "    <tr>\n",
       "      <th>70</th>\n",
       "      <td>9550</td>\n",
       "      <td>7</td>\n",
       "      <td>1915</td>\n",
       "      <td>0</td>\n",
       "    </tr>\n",
       "    <tr>\n",
       "      <th>60</th>\n",
       "      <td>14260</td>\n",
       "      <td>8</td>\n",
       "      <td>2000</td>\n",
       "      <td>350</td>\n",
       "    </tr>\n",
       "  </tbody>\n",
       "</table>\n",
       "</div>"
      ],
      "text/plain": [
       "            LotArea  OverallQual  YearBuilt  MasVnrArea\n",
       "MSSubClass                                             \n",
       "60             8450            7       2003         196\n",
       "20             9600            6       1976           0\n",
       "60            11250            7       2001         162\n",
       "70             9550            7       1915           0\n",
       "60            14260            8       2000         350"
      ]
     },
     "execution_count": 61,
     "metadata": {},
     "output_type": "execute_result"
    }
   ],
   "source": [
    "df_numerical_cols  = df2.select_dtypes(np.number)\n",
    "df_numerical_cols.head()"
   ]
  },
  {
   "cell_type": "markdown",
   "id": "46e16db7",
   "metadata": {},
   "source": [
    "22.\tMake a new dataframe with only factorial/string columns"
   ]
  },
  {
   "cell_type": "code",
   "execution_count": 63,
   "id": "7fa0d3b7",
   "metadata": {},
   "outputs": [
    {
     "data": {
      "text/html": [
       "<div>\n",
       "<style scoped>\n",
       "    .dataframe tbody tr th:only-of-type {\n",
       "        vertical-align: middle;\n",
       "    }\n",
       "\n",
       "    .dataframe tbody tr th {\n",
       "        vertical-align: top;\n",
       "    }\n",
       "\n",
       "    .dataframe thead th {\n",
       "        text-align: right;\n",
       "    }\n",
       "</style>\n",
       "<table border=\"1\" class=\"dataframe\">\n",
       "  <thead>\n",
       "    <tr style=\"text-align: right;\">\n",
       "      <th></th>\n",
       "      <th>MSZoning</th>\n",
       "      <th>LotShape</th>\n",
       "      <th>LotConfig</th>\n",
       "      <th>LandSlope</th>\n",
       "      <th>ExterQual</th>\n",
       "      <th>BsmtExposure</th>\n",
       "    </tr>\n",
       "    <tr>\n",
       "      <th>MSSubClass</th>\n",
       "      <th></th>\n",
       "      <th></th>\n",
       "      <th></th>\n",
       "      <th></th>\n",
       "      <th></th>\n",
       "      <th></th>\n",
       "    </tr>\n",
       "  </thead>\n",
       "  <tbody>\n",
       "    <tr>\n",
       "      <th>60</th>\n",
       "      <td>RL</td>\n",
       "      <td>Reg</td>\n",
       "      <td>Inside</td>\n",
       "      <td>Gtl</td>\n",
       "      <td>Gd</td>\n",
       "      <td>No</td>\n",
       "    </tr>\n",
       "    <tr>\n",
       "      <th>20</th>\n",
       "      <td>RL</td>\n",
       "      <td>Reg</td>\n",
       "      <td>FR2</td>\n",
       "      <td>Gtl</td>\n",
       "      <td>TA</td>\n",
       "      <td>Gd</td>\n",
       "    </tr>\n",
       "    <tr>\n",
       "      <th>60</th>\n",
       "      <td>RL</td>\n",
       "      <td>IR1</td>\n",
       "      <td>Inside</td>\n",
       "      <td>Gtl</td>\n",
       "      <td>Gd</td>\n",
       "      <td>Mn</td>\n",
       "    </tr>\n",
       "    <tr>\n",
       "      <th>70</th>\n",
       "      <td>RL</td>\n",
       "      <td>IR1</td>\n",
       "      <td>Corner</td>\n",
       "      <td>Gtl</td>\n",
       "      <td>TA</td>\n",
       "      <td>No</td>\n",
       "    </tr>\n",
       "    <tr>\n",
       "      <th>60</th>\n",
       "      <td>RL</td>\n",
       "      <td>IR1</td>\n",
       "      <td>FR2</td>\n",
       "      <td>Gtl</td>\n",
       "      <td>Gd</td>\n",
       "      <td>Av</td>\n",
       "    </tr>\n",
       "  </tbody>\n",
       "</table>\n",
       "</div>"
      ],
      "text/plain": [
       "           MSZoning LotShape LotConfig LandSlope ExterQual BsmtExposure\n",
       "MSSubClass                                                             \n",
       "60               RL      Reg    Inside       Gtl        Gd           No\n",
       "20               RL      Reg       FR2       Gtl        TA           Gd\n",
       "60               RL      IR1    Inside       Gtl        Gd           Mn\n",
       "70               RL      IR1    Corner       Gtl        TA           No\n",
       "60               RL      IR1       FR2       Gtl        Gd           Av"
      ]
     },
     "execution_count": 63,
     "metadata": {},
     "output_type": "execute_result"
    }
   ],
   "source": [
    "df_categorical_cols  = df2.select_dtypes(object)\n",
    "df_categorical_cols.head()"
   ]
  },
  {
   "cell_type": "markdown",
   "id": "a98e2538",
   "metadata": {},
   "source": [
    "23.\tDrop column ExterQual"
   ]
  },
  {
   "cell_type": "code",
   "execution_count": 64,
   "id": "09f4eee9",
   "metadata": {},
   "outputs": [
    {
     "data": {
      "text/plain": [
       "Index(['SubClass', 'Zones', 'LotArea', 'LotShape', 'LotConfig', 'LandSlope', 'OverallQual', 'YearBuilt', 'MasVnrArea', 'BsmtExposure', 'year_diff.', 'YearBuilt_DT', 'MasVnrArea_M'], dtype='object')"
      ]
     },
     "execution_count": 64,
     "metadata": {},
     "output_type": "execute_result"
    }
   ],
   "source": [
    "df_drop=df.drop('ExterQual',axis=1)\n",
    "df_drop.columns"
   ]
  },
  {
   "cell_type": "markdown",
   "id": "4a5842b4",
   "metadata": {},
   "source": [
    "24.\tGroup data on LotShape and find average LotArea"
   ]
  },
  {
   "cell_type": "code",
   "execution_count": 68,
   "id": "1a51c812",
   "metadata": {},
   "outputs": [
    {
     "data": {
      "text/html": [
       "<div>\n",
       "<style scoped>\n",
       "    .dataframe tbody tr th:only-of-type {\n",
       "        vertical-align: middle;\n",
       "    }\n",
       "\n",
       "    .dataframe tbody tr th {\n",
       "        vertical-align: top;\n",
       "    }\n",
       "\n",
       "    .dataframe thead th {\n",
       "        text-align: right;\n",
       "    }\n",
       "</style>\n",
       "<table border=\"1\" class=\"dataframe\">\n",
       "  <thead>\n",
       "    <tr style=\"text-align: right;\">\n",
       "      <th></th>\n",
       "      <th>LotShape</th>\n",
       "      <th>Average LotArea</th>\n",
       "    </tr>\n",
       "  </thead>\n",
       "  <tbody>\n",
       "    <tr>\n",
       "      <th>0</th>\n",
       "      <td>IR1</td>\n",
       "      <td>11492.307692</td>\n",
       "    </tr>\n",
       "    <tr>\n",
       "      <th>1</th>\n",
       "      <td>IR2</td>\n",
       "      <td>12968.000000</td>\n",
       "    </tr>\n",
       "    <tr>\n",
       "      <th>2</th>\n",
       "      <td>Reg</td>\n",
       "      <td>9085.187500</td>\n",
       "    </tr>\n",
       "  </tbody>\n",
       "</table>\n",
       "</div>"
      ],
      "text/plain": [
       "  LotShape  Average LotArea\n",
       "0      IR1     11492.307692\n",
       "1      IR2     12968.000000\n",
       "2      Reg      9085.187500"
      ]
     },
     "execution_count": 68,
     "metadata": {},
     "output_type": "execute_result"
    }
   ],
   "source": [
    "df.groupby('LotShape')['LotArea'].mean().reset_index().rename(columns={'LotArea':'Average LotArea'})"
   ]
  },
  {
   "cell_type": "markdown",
   "id": "49e40b30",
   "metadata": {},
   "source": [
    "25.\tWrite code to get a pivot table as shown (average of MSSubClass)\n",
    "26.\t \n"
   ]
  },
  {
   "cell_type": "code",
   "execution_count": 69,
   "id": "2ce4d23e",
   "metadata": {},
   "outputs": [
    {
     "data": {
      "text/html": [
       "<div>\n",
       "<style scoped>\n",
       "    .dataframe tbody tr th:only-of-type {\n",
       "        vertical-align: middle;\n",
       "    }\n",
       "\n",
       "    .dataframe tbody tr th {\n",
       "        vertical-align: top;\n",
       "    }\n",
       "\n",
       "    .dataframe thead th {\n",
       "        text-align: right;\n",
       "    }\n",
       "</style>\n",
       "<table border=\"1\" class=\"dataframe\">\n",
       "  <thead>\n",
       "    <tr style=\"text-align: right;\">\n",
       "      <th>Zones</th>\n",
       "      <th>RL</th>\n",
       "      <th>RM</th>\n",
       "    </tr>\n",
       "    <tr>\n",
       "      <th>LotShape</th>\n",
       "      <th></th>\n",
       "      <th></th>\n",
       "    </tr>\n",
       "  </thead>\n",
       "  <tbody>\n",
       "    <tr>\n",
       "      <th>IR1</th>\n",
       "      <td>43.333333</td>\n",
       "      <td>30.0</td>\n",
       "    </tr>\n",
       "    <tr>\n",
       "      <th>IR2</th>\n",
       "      <td>20.000000</td>\n",
       "      <td>NaN</td>\n",
       "    </tr>\n",
       "    <tr>\n",
       "      <th>Reg</th>\n",
       "      <td>43.333333</td>\n",
       "      <td>65.0</td>\n",
       "    </tr>\n",
       "  </tbody>\n",
       "</table>\n",
       "</div>"
      ],
      "text/plain": [
       "Zones            RL    RM\n",
       "LotShape                 \n",
       "IR1       43.333333  30.0\n",
       "IR2       20.000000   NaN\n",
       "Reg       43.333333  65.0"
      ]
     },
     "execution_count": 69,
     "metadata": {},
     "output_type": "execute_result"
    }
   ],
   "source": [
    "df.pivot_table(values='SubClass',index='LotShape',columns='Zones',aggfunc='mean')"
   ]
  },
  {
   "cell_type": "code",
   "execution_count": null,
   "id": "4a90b9f8",
   "metadata": {},
   "outputs": [],
   "source": []
  },
  {
   "cell_type": "code",
   "execution_count": null,
   "id": "5f6abd38",
   "metadata": {},
   "outputs": [],
   "source": []
  },
  {
   "cell_type": "code",
   "execution_count": null,
   "id": "bf338925",
   "metadata": {},
   "outputs": [],
   "source": []
  },
  {
   "cell_type": "code",
   "execution_count": null,
   "id": "25cd1983",
   "metadata": {},
   "outputs": [],
   "source": []
  },
  {
   "cell_type": "code",
   "execution_count": null,
   "id": "efde025c",
   "metadata": {},
   "outputs": [],
   "source": []
  },
  {
   "cell_type": "code",
   "execution_count": null,
   "id": "1e72738d",
   "metadata": {},
   "outputs": [],
   "source": []
  },
  {
   "cell_type": "code",
   "execution_count": null,
   "id": "755b4e4d",
   "metadata": {},
   "outputs": [],
   "source": []
  },
  {
   "cell_type": "code",
   "execution_count": null,
   "id": "a66b655a",
   "metadata": {},
   "outputs": [],
   "source": []
  },
  {
   "cell_type": "code",
   "execution_count": null,
   "id": "d9aa10b2",
   "metadata": {},
   "outputs": [],
   "source": []
  },
  {
   "cell_type": "code",
   "execution_count": null,
   "id": "7a74913e",
   "metadata": {},
   "outputs": [],
   "source": []
  },
  {
   "cell_type": "code",
   "execution_count": null,
   "id": "ea356131",
   "metadata": {},
   "outputs": [],
   "source": []
  },
  {
   "cell_type": "code",
   "execution_count": null,
   "id": "bf190f2f",
   "metadata": {},
   "outputs": [],
   "source": []
  },
  {
   "cell_type": "code",
   "execution_count": null,
   "id": "e244efdc",
   "metadata": {},
   "outputs": [],
   "source": []
  },
  {
   "cell_type": "code",
   "execution_count": null,
   "id": "14a8a5e1",
   "metadata": {},
   "outputs": [],
   "source": []
  },
  {
   "cell_type": "code",
   "execution_count": null,
   "id": "1c1c7a95",
   "metadata": {},
   "outputs": [],
   "source": []
  },
  {
   "cell_type": "code",
   "execution_count": null,
   "id": "c3f25c73",
   "metadata": {},
   "outputs": [],
   "source": []
  },
  {
   "cell_type": "code",
   "execution_count": null,
   "id": "48b106df",
   "metadata": {},
   "outputs": [],
   "source": []
  },
  {
   "cell_type": "code",
   "execution_count": null,
   "id": "cc64de16",
   "metadata": {},
   "outputs": [],
   "source": []
  },
  {
   "cell_type": "code",
   "execution_count": null,
   "id": "3959ffbf",
   "metadata": {},
   "outputs": [],
   "source": []
  },
  {
   "cell_type": "code",
   "execution_count": null,
   "id": "57ea92d7",
   "metadata": {},
   "outputs": [],
   "source": []
  }
 ],
 "metadata": {
  "kernelspec": {
   "display_name": "Python 3",
   "language": "python",
   "name": "python3"
  },
  "language_info": {
   "codemirror_mode": {
    "name": "ipython",
    "version": 3
   },
   "file_extension": ".py",
   "mimetype": "text/x-python",
   "name": "python",
   "nbconvert_exporter": "python",
   "pygments_lexer": "ipython3",
   "version": "3.8.8"
  }
 },
 "nbformat": 4,
 "nbformat_minor": 5
}
